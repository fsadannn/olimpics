{
 "cells": [
  {
   "cell_type": "code",
   "execution_count": 1,
   "source": [
    "import json\r\n",
    "from sklearn.neighbors import KernelDensity\r\n",
    "import numpy as np\r\n",
    "import scipy.stats as stats\r\n",
    "import math\r\n",
    "import matplotlib\r\n",
    "import matplotlib.pyplot as plt\r\n",
    "from functools import partial\r\n",
    "from simulator import Shooter, Simulator\r\n",
    "%matplotlib inline"
   ],
   "outputs": [],
   "metadata": {}
  },
  {
   "cell_type": "code",
   "execution_count": 2,
   "source": [
    "total_points = {\r\n",
    "    1: 40,\r\n",
    "    2: 40,\r\n",
    "    3: 35,\r\n",
    "    4: 30,\r\n",
    "    5: 25,\r\n",
    "    6: 20\r\n",
    "}"
   ],
   "outputs": [],
   "metadata": {}
  },
  {
   "cell_type": "code",
   "execution_count": 3,
   "source": [
    "athletes_data = json.load(open('participants.json'))"
   ],
   "outputs": [],
   "metadata": {}
  },
  {
   "cell_type": "code",
   "execution_count": 4,
   "source": [
    "def get_sample(func):\r\n",
    "    return func()[0][0]\r\n",
    "\r\n",
    "def get_sample2(func):\r\n",
    "    return func()"
   ],
   "outputs": [],
   "metadata": {}
  },
  {
   "cell_type": "code",
   "execution_count": 5,
   "source": [
    "athletes = []\r\n",
    "for i,j in athletes_data.items():\r\n",
    "    vals = np.array(j['q'])[:,np.newaxis]\r\n",
    "    kde  = KernelDensity(bandwidth=3).fit(vals)\r\n",
    "    points = partial(get_sample,kde.sample)\r\n",
    "\r\n",
    "    vals = j['f']\r\n",
    "    if len(vals)==0:\r\n",
    "        final = lambda: 0.5\r\n",
    "    elif len(vals)==1:\r\n",
    "        frac = vals[0][0]/total_points[vals[0][1]]\r\n",
    "        sampler = lambda: frac\r\n",
    "        final = partial(get_sample2,sampler)\r\n",
    "    else:\r\n",
    "        vals = list(map(lambda x: x[0]/total_points[x[1]] ,vals))\r\n",
    "        vals = np.array(vals)[:,np.newaxis]\r\n",
    "        kde2  = KernelDensity(bandwidth=0.1).fit(vals)\r\n",
    "        final = partial(get_sample,kde2.sample)\r\n",
    "\r\n",
    "    athlete = Shooter(points,final,j['lastName']+' '+j['name'],j['nation'])\r\n",
    "    athletes.append(athlete)"
   ],
   "outputs": [],
   "metadata": {}
  },
  {
   "cell_type": "code",
   "execution_count": 6,
   "source": [
    "tournament = Simulator(athletes)"
   ],
   "outputs": [],
   "metadata": {}
  },
  {
   "cell_type": "code",
   "execution_count": 7,
   "source": [
    "results = {i.name:[] for i in athletes}\r\n",
    "nsim = 10000"
   ],
   "outputs": [],
   "metadata": {}
  },
  {
   "cell_type": "code",
   "execution_count": 8,
   "source": [
    "for i in range(nsim):\r\n",
    "    tournament.run()\r\n",
    "    res = list(map(lambda x: x.name,tournament.winners))\r\n",
    "    tournament.reset()\r\n",
    "    for n,name in enumerate(res):\r\n",
    "        results[name].append(n)"
   ],
   "outputs": [],
   "metadata": {}
  },
  {
   "cell_type": "code",
   "execution_count": 10,
   "source": [
    "confidences = {}\r\n",
    "\r\n",
    "for name, places in results.items():\r\n",
    "    mean = np.mean(places)\r\n",
    "    interval = stats.t.interval(0.95, len(places)-1, loc=mean, scale=stats.sem(places))\r\n",
    "    confidences[name]= {\r\n",
    "        'mean':mean,\r\n",
    "        'interval': interval,\r\n",
    "        'gap': mean-interval[0]\r\n",
    "    }"
   ],
   "outputs": [],
   "metadata": {}
  },
  {
   "cell_type": "code",
   "execution_count": 11,
   "source": [
    "sorted_athletes = list(sorted(confidences.items(),key=lambda x: x[1]['mean']))"
   ],
   "outputs": [],
   "metadata": {}
  },
  {
   "cell_type": "code",
   "execution_count": 12,
   "source": [
    "fix_results = {}\r\n",
    "min_rank = math.floor(sorted_athletes[0][1]['mean'])\r\n",
    "for n,(name, data) in enumerate(sorted_athletes):\r\n",
    "    rank = data['mean']-min_rank + 1\r\n",
    "    fix_results[name] = {\r\n",
    "        'rank': rank,\r\n",
    "        'gap': data['gap'],\r\n",
    "        'sorted_rank': n,\r\n",
    "        'nation': athletes_data[name]['nation']\r\n",
    "    }"
   ],
   "outputs": [],
   "metadata": {}
  },
  {
   "cell_type": "code",
   "execution_count": 13,
   "source": [
    "json.dump(fix_results,open('results.json','w'),indent=2)"
   ],
   "outputs": [],
   "metadata": {}
  },
  {
   "cell_type": "code",
   "execution_count": 14,
   "source": [
    "fix_results"
   ],
   "outputs": [
    {
     "output_type": "execute_result",
     "data": {
      "text/plain": [
       "{'REITZ Christian': {'rank': 1.6,\n",
       "  'gap': 2.111346685224926,\n",
       "  'sorted_rank': 0,\n",
       "  'nation': 'GER'},\n",
       " 'LIN Junmin': {'rank': 3.4000000000000004,\n",
       "  'gap': 3.238038273290729,\n",
       "  'sorted_rank': 1,\n",
       "  'nation': 'CHN'},\n",
       " 'LI Yuehong': {'rank': 4.1,\n",
       "  'gap': 3.277309813054394,\n",
       "  'sorted_rank': 2,\n",
       "  'nation': 'CHN'},\n",
       " 'BESSAGUET Clement': {'rank': 4.4,\n",
       "  'gap': 2.459644452804907,\n",
       "  'sorted_rank': 3,\n",
       "  'nation': 'RRA'},\n",
       " 'QUIQUAMPOIX Jean': {'rank': 5.5,\n",
       "  'gap': 2.7859148935121647,\n",
       "  'sorted_rank': 4,\n",
       "  'nation': 'FRA'},\n",
       " 'SONG Jong-Ho': {'rank': 5.5,\n",
       "  'gap': 3.32553346285124,\n",
       "  'sorted_rank': 5,\n",
       "  'nation': 'KOR'},\n",
       " 'HAN Daeyoon': {'rank': 6.4,\n",
       "  'gap': 2.8851743183170644,\n",
       "  'sorted_rank': 6,\n",
       "  'nation': 'KOR'},\n",
       " 'EKIMOV Leonid': {'rank': 7.800000000000001,\n",
       "  'gap': 3.231006694366071,\n",
       "  'sorted_rank': 7,\n",
       "  'nation': 'ROC'},\n",
       " 'KOROSTYLOV Pavlo': {'rank': 8.9,\n",
       "  'gap': 3.5440462216275535,\n",
       "  'sorted_rank': 8,\n",
       "  'nation': 'UKR'},\n",
       " 'GEIS Oliver': {'rank': 8.9,\n",
       "  'gap': 6.055467922247945,\n",
       "  'sorted_rank': 9,\n",
       "  'nation': 'GER'},\n",
       " 'MAZZETTI Riccardo': {'rank': 9.1,\n",
       "  'gap': 5.452690410993784,\n",
       "  'sorted_rank': 10,\n",
       "  'nation': 'ITA'},\n",
       " 'PUPO Leuris': {'rank': 10.4,\n",
       "  'gap': 4.119086657980555,\n",
       "  'sorted_rank': 11,\n",
       "  'nation': 'CUB'},\n",
       " 'AKHTAR Muhammad Khalil': {'rank': 10.9,\n",
       "  'gap': 4.038934344880525,\n",
       "  'sorted_rank': 12,\n",
       "  'nation': 'PAK'},\n",
       " 'ALVAREZ Jorge': {'rank': 11.7,\n",
       "  'gap': 4.487086924037051,\n",
       "  'sorted_rank': 13,\n",
       "  'nation': 'CUB'},\n",
       " 'OLESK Peeter': {'rank': 12.8,\n",
       "  'gap': 4.930833837952658,\n",
       "  'sorted_rank': 14,\n",
       "  'nation': 'EST'},\n",
       " 'EVGLEVSKI Sergei': {'rank': 14.1,\n",
       "  'gap': 4.441234137213334,\n",
       "  'sorted_rank': 15,\n",
       "  'nation': 'AUS'},\n",
       " 'LUNEV Ruslan': {'rank': 14.9,\n",
       "  'gap': 4.567466548096466,\n",
       "  'sorted_rank': 16,\n",
       "  'nation': 'AZE'},\n",
       " 'BASHIR Ghulam Mustafa': {'rank': 15.399999999999999,\n",
       "  'gap': 4.735545050659232,\n",
       "  'sorted_rank': 17,\n",
       "  'nation': 'PAK'},\n",
       " 'VARLIK Ozgur': {'rank': 15.8,\n",
       "  'gap': 4.029773354896953,\n",
       "  'sorted_rank': 18,\n",
       "  'nation': 'TUR'},\n",
       " 'ENKHTAIVAN Davaakhuu': {'rank': 16.7,\n",
       "  'gap': 2.5470902981029084,\n",
       "  'sorted_rank': 19,\n",
       "  'nation': 'MGL'},\n",
       " 'YOSHIOKA Dai': {'rank': 17.3,\n",
       "  'gap': 3.7407383000065426,\n",
       "  'sorted_rank': 20,\n",
       "  'nation': 'JPN'},\n",
       " 'LEVERETT Henry Turner': {'rank': 17.3,\n",
       "  'gap': 4.075372381013494,\n",
       "  'sorted_rank': 21,\n",
       "  'nation': 'USA'},\n",
       " 'LEVERETT III Jack Hobson': {'rank': 18.3,\n",
       "  'gap': 4.158241701463048,\n",
       "  'sorted_rank': 22,\n",
       "  'nation': 'USA'},\n",
       " 'CHELLI Tommaso': {'rank': 18.7,\n",
       "  'gap': 3.904360643717503,\n",
       "  'sorted_rank': 23,\n",
       "  'nation': 'ITA'},\n",
       " 'PHURIHIRANPHAT Isaranuudom': {'rank': 19.7,\n",
       "  'gap': 2.6132022479362966,\n",
       "  'sorted_rank': 24,\n",
       "  'nation': 'THA'},\n",
       " 'CARRILLO Marko': {'rank': 20.8,\n",
       "  'gap': 3.2660132057792737,\n",
       "  'sorted_rank': 25,\n",
       "  'nation': 'PER'},\n",
       " 'TOBAR PRADO Bernardo': {'rank': 23.6,\n",
       "  'gap': 2.0007270735004816,\n",
       "  'sorted_rank': 26,\n",
       "  'nation': 'COL'}}"
      ]
     },
     "metadata": {},
     "execution_count": 14
    }
   ],
   "metadata": {}
  },
  {
   "cell_type": "code",
   "execution_count": 15,
   "source": [
    "np.mean(np.random.binomial(20, 0.5, 1))"
   ],
   "outputs": [
    {
     "output_type": "execute_result",
     "data": {
      "text/plain": [
       "10.0"
      ]
     },
     "metadata": {},
     "execution_count": 15
    }
   ],
   "metadata": {}
  },
  {
   "cell_type": "code",
   "execution_count": null,
   "source": [],
   "outputs": [],
   "metadata": {}
  }
 ],
 "metadata": {
  "orig_nbformat": 4,
  "language_info": {
   "name": "python",
   "version": "3.8.5",
   "mimetype": "text/x-python",
   "codemirror_mode": {
    "name": "ipython",
    "version": 3
   },
   "pygments_lexer": "ipython3",
   "nbconvert_exporter": "python",
   "file_extension": ".py"
  },
  "kernelspec": {
   "name": "python3",
   "display_name": "Python 3.8.5 64-bit"
  },
  "interpreter": {
   "hash": "c1a6640d7d916c97be21ce7bbfee2054be151241ade44e457d2739843c06888a"
  }
 },
 "nbformat": 4,
 "nbformat_minor": 2
}